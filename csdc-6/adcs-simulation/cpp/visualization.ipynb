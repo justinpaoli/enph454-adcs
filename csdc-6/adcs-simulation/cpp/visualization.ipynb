{
 "cells": [
  {
   "cell_type": "code",
   "execution_count": null,
   "metadata": {},
   "outputs": [],
   "source": [
    "import pandas as pd\n",
    "import matplotlib.pyplot as plt\n",
    "\n",
    "data = pd.read_csv(\"output/sim_out.csv\")\n",
    "time = data['Time']"
   ]
  },
  {
   "cell_type": "code",
   "execution_count": null,
   "metadata": {},
   "outputs": [],
   "source": [
    "theta_x = data['Satellite theta x']\n",
    "theta_y = data['Satellite theta y']\n",
    "theta_z = data['Satellite theta z']\n",
    "\n",
    "plt.title(\"Satellite Position vs. Time\")\n",
    "plt.xlabel(\"Time [s]\")\n",
    "plt.ylabel(\"Satellite Position [rad]\")\n",
    "plt.plot(time, theta_x, label=\"x\")\n",
    "plt.plot(time, theta_y, label=\"y\")\n",
    "plt.plot(time, theta_z, label=\"z\")\n",
    "plt.legend()\n",
    "plt.show()"
   ]
  },
  {
   "cell_type": "code",
   "execution_count": null,
   "metadata": {},
   "outputs": [],
   "source": [
    "omega_x = data['Satellite Omega x']\n",
    "omega_y = data['Satellite Omega y']\n",
    "omega_z = data['Satellite Omega z']\n",
    "\n",
    "plt.title(\"Satellite Velocity vs. Time\")\n",
    "plt.xlabel(\"Time [s]\")\n",
    "plt.ylabel(\"Satellite Velocity [rad/s]\")\n",
    "plt.plot(time, omega_x, label=\"x\")\n",
    "plt.plot(time, omega_y, label=\"y\")\n",
    "plt.plot(time, omega_z, label=\"z\")\n",
    "plt.legend()\n",
    "plt.show()"
   ]
  },
  {
   "cell_type": "code",
   "execution_count": null,
   "metadata": {},
   "outputs": [],
   "source": [
    "alpha_x = data['Satellite alpha x']\n",
    "alpha_y = data['Satellite alpha y']\n",
    "alpha_z = data['Satellite alpha z']\n",
    "\n",
    "plt.title(\"Satellite Acceleration vs. Time\")\n",
    "plt.xlabel(\"Time [s]\")\n",
    "plt.ylabel(\"Satellite Acceleration [rad/s^2]\")\n",
    "plt.plot(time, alpha_x, label=\"x\")\n",
    "plt.plot(time, alpha_y, label=\"y\")\n",
    "plt.plot(time, alpha_z, label=\"z\")\n",
    "plt.legend()\n",
    "plt.show()"
   ]
  },
  {
   "cell_type": "code",
   "execution_count": null,
   "metadata": {},
   "outputs": [],
   "source": [
    "accel_x = data['Accelerometer x']\n",
    "accel_y = data['Accelerometer y']\n",
    "accel_z = data['Accelerometer z']\n",
    "\n",
    "plt.title(\"Accelerometer Reading vs. Time\")\n",
    "plt.xlabel(\"Time [s]\")\n",
    "plt.ylabel(\"Accelerometer [m/s^2]\")\n",
    "plt.plot(time, accel_x, label=\"x\")\n",
    "plt.plot(time, accel_y, label=\"y\")\n",
    "plt.plot(time, accel_z, label=\"z\")\n",
    "plt.legend()\n",
    "plt.show()"
   ]
  },
  {
   "cell_type": "code",
   "execution_count": null,
   "metadata": {},
   "outputs": [],
   "source": [
    "gyro_x = data['Gyro x']\n",
    "gyro_y = data['Gyro y']\n",
    "gyro_z = data['Gyro z']\n",
    "\n",
    "plt.title(\"Gyroscope Reading vs. Time\")\n",
    "plt.xlabel(\"Time [s]\")\n",
    "plt.ylabel(\"Gyroscope Reading [rad/s^2]\")\n",
    "plt.plot(time, gyro_x, label=\"x\")\n",
    "plt.plot(time, gyro_y, label=\"y\")\n",
    "plt.plot(time, gyro_z, label=\"z\")\n",
    "plt.legend()\n",
    "plt.show()"
   ]
  },
  {
   "cell_type": "code",
   "execution_count": null,
   "metadata": {},
   "outputs": [],
   "source": [
    "wheel_count = len([col for col in data.columns if \"Reaction wheel\" in col]) / 2\n",
    "for i in range(wheel_count):\n",
    "    rw_omega = data['Reaction wheel %d Omega' % i]\n",
    "    rw_alpha = data['Reaction wheel %d alpha' % i]\n",
    "\n",
    "    plt.title(\"Reaction wheel %d vs. Time\" % i)\n",
    "    plt.xlabel(\"Time [s]\")\n",
    "    plt.plot(time, rw_omega, label=\"omega\")\n",
    "    plt.plot(time, rw_alpha, label=\"alpha\")\n",
    "    plt.legend()\n",
    "    plt.show()"
   ]
  }
 ],
 "metadata": {
  "kernelspec": {
   "display_name": "Python 3.8.10 64-bit",
   "language": "python",
   "name": "python3"
  },
  "language_info": {
   "codemirror_mode": {
    "name": "ipython",
    "version": 3
   },
   "file_extension": ".py",
   "mimetype": "text/x-python",
   "name": "python",
   "nbconvert_exporter": "python",
   "pygments_lexer": "ipython3",
   "version": "3.8.10"
  },
  "orig_nbformat": 4,
  "vscode": {
   "interpreter": {
    "hash": "916dbcbb3f70747c44a77c7bcd40155683ae19c65e1c03b4aa3499c5328201f1"
   }
  }
 },
 "nbformat": 4,
 "nbformat_minor": 2
}
